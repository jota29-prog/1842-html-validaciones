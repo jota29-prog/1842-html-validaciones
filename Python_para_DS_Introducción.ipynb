{
  "nbformat": 4,
  "nbformat_minor": 0,
  "metadata": {
    "colab": {
      "provenance": [],
      "authorship_tag": "ABX9TyNnHqeykWXxcOX9mg7RrNRK",
      "include_colab_link": true
    },
    "kernelspec": {
      "name": "python3",
      "display_name": "Python 3"
    },
    "language_info": {
      "name": "python"
    }
  },
  "cells": [
    {
      "cell_type": "markdown",
      "metadata": {
        "id": "view-in-github",
        "colab_type": "text"
      },
      "source": [
        "<a href=\"https://colab.research.google.com/github/jota29-prog/1842-html-validaciones/blob/master/Python_para_DS_Introducci%C3%B3n.ipynb\" target=\"_parent\"><img src=\"https://colab.research.google.com/assets/colab-badge.svg\" alt=\"Open In Colab\"/></a>"
      ]
    },
    {
      "cell_type": "markdown",
      "source": [],
      "metadata": {
        "id": "Eo1XybB8cVEN"
      }
    },
    {
      "cell_type": "markdown",
      "source": [
        "#**Python para DS - Introducción al lenguaje**"
      ],
      "metadata": {
        "id": "srR3BhwlcZqM"
      }
    },
    {
      "cell_type": "code",
      "execution_count": null,
      "metadata": {
        "colab": {
          "base_uri": "https://localhost:8080/"
        },
        "id": "QecNvONMcKR5",
        "outputId": "9e3ecd85-1d28-4484-b30b-1b4949df6059"
      },
      "outputs": [
        {
          "output_type": "execute_result",
          "data": {
            "text/plain": [
              "2"
            ]
          },
          "metadata": {},
          "execution_count": 1
        }
      ],
      "source": [
        "1 + 1"
      ]
    },
    {
      "cell_type": "code",
      "source": [
        "'Jorge'"
      ],
      "metadata": {
        "colab": {
          "base_uri": "https://localhost:8080/",
          "height": 36
        },
        "id": "M1trZEevDAnF",
        "outputId": "e3b18e5f-07a2-4343-89dd-573b7d3adb92"
      },
      "execution_count": null,
      "outputs": [
        {
          "output_type": "execute_result",
          "data": {
            "text/plain": [
              "'Jorge'"
            ],
            "application/vnd.google.colaboratory.intrinsic+json": {
              "type": "string"
            }
          },
          "metadata": {},
          "execution_count": 3
        }
      ]
    },
    {
      "cell_type": "code",
      "source": [
        "nombre = 'Jorge'"
      ],
      "metadata": {
        "id": "bWRXGP9gDLbD"
      },
      "execution_count": 1,
      "outputs": []
    },
    {
      "cell_type": "code",
      "source": [
        "nombre"
      ],
      "metadata": {
        "colab": {
          "base_uri": "https://localhost:8080/",
          "height": 36
        },
        "id": "dg8D4-SPDvsC",
        "outputId": "6344ed44-2d69-4a41-d18f-a2d593af1923"
      },
      "execution_count": 2,
      "outputs": [
        {
          "output_type": "execute_result",
          "data": {
            "text/plain": [
              "'Jorge'"
            ],
            "application/vnd.google.colaboratory.intrinsic+json": {
              "type": "string"
            }
          },
          "metadata": {},
          "execution_count": 2
        }
      ]
    },
    {
      "cell_type": "code",
      "source": [
        "edad = 46"
      ],
      "metadata": {
        "id": "ElydnCxiDza6"
      },
      "execution_count": 9,
      "outputs": []
    },
    {
      "cell_type": "code",
      "source": [
        "edad"
      ],
      "metadata": {
        "colab": {
          "base_uri": "https://localhost:8080/"
        },
        "id": "ALJPcSXID6Iy",
        "outputId": "be51cdf2-0e7d-40db-c68e-13978030b8c4"
      },
      "execution_count": 10,
      "outputs": [
        {
          "output_type": "execute_result",
          "data": {
            "text/plain": [
              "46"
            ]
          },
          "metadata": {},
          "execution_count": 10
        }
      ]
    },
    {
      "cell_type": "markdown",
      "source": [
        "#Mi primera función"
      ],
      "metadata": {
        "id": "69FXe01wE7Yn"
      }
    },
    {
      "cell_type": "code",
      "source": [
        "print('El nombre es Jorge y su edad es 47 años')"
      ],
      "metadata": {
        "colab": {
          "base_uri": "https://localhost:8080/"
        },
        "id": "Ud1MLFU4ETar",
        "outputId": "2874d4bd-ae6a-4166-f8d2-e8d98e14daeb"
      },
      "execution_count": 3,
      "outputs": [
        {
          "output_type": "stream",
          "name": "stdout",
          "text": [
            "El nombre es Jorge y su edad es 47 años\n"
          ]
        }
      ]
    },
    {
      "cell_type": "code",
      "source": [
        "print(f'El nombre es {nombre} y su edad es {edad} años')"
      ],
      "metadata": {
        "colab": {
          "base_uri": "https://localhost:8080/"
        },
        "id": "k9t6ds7kErfg",
        "outputId": "a1ce5fdf-aeac-4a92-f79b-28530f186161"
      },
      "execution_count": 11,
      "outputs": [
        {
          "output_type": "stream",
          "name": "stdout",
          "text": [
            "El nombre es Jorge y su edad es 46 años\n"
          ]
        }
      ]
    },
    {
      "cell_type": "code",
      "source": [
        "def saludar ():\n",
        "  nombre = input('Digite su nombre: ')\n",
        "  print(f'Hola {nombre} sea bienvenido!!!')"
      ],
      "metadata": {
        "id": "vcYgFBkGGI6L"
      },
      "execution_count": 12,
      "outputs": []
    },
    {
      "cell_type": "code",
      "source": [
        "saludar()"
      ],
      "metadata": {
        "colab": {
          "base_uri": "https://localhost:8080/"
        },
        "id": "mj5NitbSG3yM",
        "outputId": "302f3c80-c4ed-49ea-a388-83089f735290"
      },
      "execution_count": 13,
      "outputs": [
        {
          "output_type": "stream",
          "name": "stdout",
          "text": [
            "Digite su nombre: Jorge\n",
            "Hola Jorge sea bienvenido!!!\n"
          ]
        }
      ]
    },
    {
      "cell_type": "code",
      "source": [
        "saludar()"
      ],
      "metadata": {
        "colab": {
          "base_uri": "https://localhost:8080/"
        },
        "id": "waj1PBDfHCi1",
        "outputId": "092d8f83-f24e-47e6-f124-84814e940d37"
      },
      "execution_count": 14,
      "outputs": [
        {
          "output_type": "stream",
          "name": "stdout",
          "text": [
            "Digite su nombre: José\n",
            "Hola José sea bienvenido!!!\n"
          ]
        }
      ]
    },
    {
      "cell_type": "code",
      "source": [
        "saludar()"
      ],
      "metadata": {
        "id": "Vf2i-RidHHpD",
        "colab": {
          "base_uri": "https://localhost:8080/"
        },
        "outputId": "96c910f7-9546-4c0b-b8f6-4285ce6db4c3"
      },
      "execution_count": 15,
      "outputs": [
        {
          "output_type": "stream",
          "name": "stdout",
          "text": [
            "Digite su nombre: Elisa\n",
            "Hola Elisa sea bienvenido!!!\n"
          ]
        }
      ]
    },
    {
      "cell_type": "markdown",
      "source": [],
      "metadata": {
        "id": "qmvaqO9YVnx9"
      }
    },
    {
      "cell_type": "markdown",
      "source": [
        "#Parámetros"
      ],
      "metadata": {
        "id": "zhmnZPzaVuRN"
      }
    },
    {
      "cell_type": "code",
      "source": [
        "nombre = 'Andrea'"
      ],
      "metadata": {
        "id": "Ro3921BuUCpk"
      },
      "execution_count": 16,
      "outputs": []
    },
    {
      "cell_type": "code",
      "source": [
        "def saludar_con_parametros(nombre):\n",
        "  print(f'Hola {nombre} sea bienvenid@!!!')"
      ],
      "metadata": {
        "id": "b0a4QXQEUkX7"
      },
      "execution_count": 17,
      "outputs": []
    },
    {
      "cell_type": "code",
      "source": [
        "saludar_con_parametros(nombre)"
      ],
      "metadata": {
        "colab": {
          "base_uri": "https://localhost:8080/"
        },
        "id": "BQ2cGgCQVKD5",
        "outputId": "92472750-8901-449b-8680-56265774f477"
      },
      "execution_count": 18,
      "outputs": [
        {
          "output_type": "stream",
          "name": "stdout",
          "text": [
            "Hola Andrea sea bienvenid@!!!\n"
          ]
        }
      ]
    },
    {
      "cell_type": "markdown",
      "source": [
        "#Condicionales"
      ],
      "metadata": {
        "id": "kyu7_OltjBp4"
      }
    },
    {
      "cell_type": "code",
      "source": [
        "edad = 18\n",
        "\n",
        "def verificar_si_puede_conducir(edad):\n",
        "  if edad >= 18:\n",
        "    print(\"Usted tiene edad suficiente para conducir\")\n",
        "  else:\n",
        "    print(\"Usted NO tiene edad suficiente para conducir\")\n",
        "\n",
        "verificar_si_puede_conducir(edad)"
      ],
      "metadata": {
        "id": "SF5APHWyVero",
        "colab": {
          "base_uri": "https://localhost:8080/"
        },
        "outputId": "abf3f231-094e-4e4d-9d35-08a97f3f88a9"
      },
      "execution_count": 27,
      "outputs": [
        {
          "output_type": "stream",
          "name": "stdout",
          "text": [
            "Usted tiene edad suficiente para conducir\n"
          ]
        }
      ]
    },
    {
      "cell_type": "markdown",
      "source": [
        "#Condicionales sin parámetro y conversión de tipo de dato"
      ],
      "metadata": {
        "id": "MQv4yG__m2hK"
      }
    },
    {
      "cell_type": "code",
      "source": [
        "def verificar_si_puede_conducir_sin_parametro():\n",
        "  edad = input('Digite su edad: ')\n",
        "  edad = int(edad)\n",
        "  if edad >= 18:\n",
        "      print(\"Usted tiene edad suficiente para conducir\")\n",
        "  else:\n",
        "    print(\"Usted NO tiene edad suficiente para conducir\")\n",
        "\n",
        "verificar_si_puede_conducir_sin_parametro()"
      ],
      "metadata": {
        "colab": {
          "base_uri": "https://localhost:8080/"
        },
        "id": "lgQyd_vKi8If",
        "outputId": "f1f9eddd-39c0-40a0-e2a9-ea3e243ffdc1"
      },
      "execution_count": 35,
      "outputs": [
        {
          "output_type": "stream",
          "name": "stdout",
          "text": [
            "Digite su edad: 25\n",
            "Usted tiene edad suficiente para conducir\n"
          ]
        }
      ]
    },
    {
      "cell_type": "markdown",
      "source": [
        "#Listas\n"
      ],
      "metadata": {
        "id": "n_FfumN5qwRU"
      }
    },
    {
      "cell_type": "code",
      "source": [
        "edad = 18\n",
        "nombre = 'Christian'"
      ],
      "metadata": {
        "id": "_m2fwQ94q741"
      },
      "execution_count": null,
      "outputs": []
    },
    {
      "cell_type": "code",
      "source": [
        "edades = [18,15,12,45,50]"
      ],
      "metadata": {
        "id": "9KefeuiRntvP"
      },
      "execution_count": 36,
      "outputs": []
    },
    {
      "cell_type": "code",
      "source": [
        "edades"
      ],
      "metadata": {
        "colab": {
          "base_uri": "https://localhost:8080/"
        },
        "id": "go581XGCo8qU",
        "outputId": "0ee66d98-600d-4144-d670-9042a367109f"
      },
      "execution_count": 37,
      "outputs": [
        {
          "output_type": "execute_result",
          "data": {
            "text/plain": [
              "[18, 15, 12, 45, 50]"
            ]
          },
          "metadata": {},
          "execution_count": 37
        }
      ]
    },
    {
      "cell_type": "code",
      "source": [
        "type(edad)"
      ],
      "metadata": {
        "colab": {
          "base_uri": "https://localhost:8080/"
        },
        "id": "kAo7GzVwqYJl",
        "outputId": "bc25f647-d3a6-43af-9b97-51d90614bc69"
      },
      "execution_count": 39,
      "outputs": [
        {
          "output_type": "execute_result",
          "data": {
            "text/plain": [
              "int"
            ]
          },
          "metadata": {},
          "execution_count": 39
        }
      ]
    },
    {
      "cell_type": "code",
      "source": [
        "type(nombre)"
      ],
      "metadata": {
        "colab": {
          "base_uri": "https://localhost:8080/"
        },
        "id": "xrJLxUb6qcOh",
        "outputId": "abc0127e-a6d0-432e-a57b-f5699a2420a2"
      },
      "execution_count": 40,
      "outputs": [
        {
          "output_type": "execute_result",
          "data": {
            "text/plain": [
              "str"
            ]
          },
          "metadata": {},
          "execution_count": 40
        }
      ]
    },
    {
      "cell_type": "code",
      "source": [
        "type(edades)"
      ],
      "metadata": {
        "colab": {
          "base_uri": "https://localhost:8080/"
        },
        "id": "N2xamzx4qlKJ",
        "outputId": "858aaaeb-cdbe-4084-b925-8edcb3c6f758"
      },
      "execution_count": 41,
      "outputs": [
        {
          "output_type": "execute_result",
          "data": {
            "text/plain": [
              "list"
            ]
          },
          "metadata": {},
          "execution_count": 41
        }
      ]
    },
    {
      "cell_type": "code",
      "source": [
        "edades"
      ],
      "metadata": {
        "colab": {
          "base_uri": "https://localhost:8080/"
        },
        "id": "Y3_nXyACqrGR",
        "outputId": "4b48b3bb-08a2-49d6-c737-6ea69242eba0"
      },
      "execution_count": 42,
      "outputs": [
        {
          "output_type": "execute_result",
          "data": {
            "text/plain": [
              "[18, 15, 12, 45, 50]"
            ]
          },
          "metadata": {},
          "execution_count": 42
        }
      ]
    },
    {
      "cell_type": "code",
      "source": [
        "edades[2]"
      ],
      "metadata": {
        "colab": {
          "base_uri": "https://localhost:8080/"
        },
        "id": "ywoe8eK-rRlm",
        "outputId": "4e98586b-f89c-4284-b191-1bbf30dee792"
      },
      "execution_count": 43,
      "outputs": [
        {
          "output_type": "execute_result",
          "data": {
            "text/plain": [
              "12"
            ]
          },
          "metadata": {},
          "execution_count": 43
        }
      ]
    },
    {
      "cell_type": "code",
      "source": [
        "# [18, 15, 12, 45, 50]\n",
        "#  0    1   2   3   4\n",
        "edades[1]\n"
      ],
      "metadata": {
        "colab": {
          "base_uri": "https://localhost:8080/"
        },
        "id": "WWWmpKmHrUwh",
        "outputId": "56d9b57f-d8b3-4ca8-e6b2-16b1c34cb8f6"
      },
      "execution_count": 44,
      "outputs": [
        {
          "output_type": "execute_result",
          "data": {
            "text/plain": [
              "15"
            ]
          },
          "metadata": {},
          "execution_count": 44
        }
      ]
    },
    {
      "cell_type": "code",
      "source": [
        "edades[0:3]"
      ],
      "metadata": {
        "colab": {
          "base_uri": "https://localhost:8080/"
        },
        "id": "0_QTgBKqrxwn",
        "outputId": "cf17f168-ade1-47b2-801a-f44a637219e0"
      },
      "execution_count": 46,
      "outputs": [
        {
          "output_type": "execute_result",
          "data": {
            "text/plain": [
              "[18, 15, 12]"
            ]
          },
          "metadata": {},
          "execution_count": 46
        }
      ]
    },
    {
      "cell_type": "code",
      "source": [
        "edades"
      ],
      "metadata": {
        "colab": {
          "base_uri": "https://localhost:8080/"
        },
        "id": "-TRimDyCsOxn",
        "outputId": "f0fd00a9-13a0-4551-e901-cf30eb13afd9"
      },
      "execution_count": 48,
      "outputs": [
        {
          "output_type": "execute_result",
          "data": {
            "text/plain": [
              "[18, 15, 12, 45, 50]"
            ]
          },
          "metadata": {},
          "execution_count": 48
        }
      ]
    },
    {
      "cell_type": "code",
      "source": [
        "edades[:]"
      ],
      "metadata": {
        "colab": {
          "base_uri": "https://localhost:8080/"
        },
        "id": "6pMygmAUsAOm",
        "outputId": "805fb656-e962-479e-9e19-80567a965c0d"
      },
      "execution_count": 47,
      "outputs": [
        {
          "output_type": "execute_result",
          "data": {
            "text/plain": [
              "[18, 15, 12, 45, 50]"
            ]
          },
          "metadata": {},
          "execution_count": 47
        }
      ]
    },
    {
      "cell_type": "code",
      "source": [
        "edades[1:]"
      ],
      "metadata": {
        "colab": {
          "base_uri": "https://localhost:8080/"
        },
        "id": "c37Msz2vsSNv",
        "outputId": "9e60d600-1920-4c61-abea-861d35c941d3"
      },
      "execution_count": 49,
      "outputs": [
        {
          "output_type": "execute_result",
          "data": {
            "text/plain": [
              "[15, 12, 45, 50]"
            ]
          },
          "metadata": {},
          "execution_count": 49
        }
      ]
    },
    {
      "cell_type": "code",
      "source": [
        "# [18, 15, 12, 45, 50]\n",
        "#  0    1   2   3   4"
      ],
      "metadata": {
        "id": "A82Y2shbsZ3v"
      },
      "execution_count": null,
      "outputs": []
    }
  ]
}